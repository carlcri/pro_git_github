{
 "cells": [
  {
   "cell_type": "markdown",
   "metadata": {},
   "source": [
    "# Flujo de trabajo básico en GIT\n",
    "\n",
    "## Flujo de trabajo básico con un repositorio remoto\n",
    "\n",
    "## Introducción a las ramas o branches de Git\n",
    "\n",
    "Las ramas (branches) son la forma de hacer cambios en nuestro proyecto sin afectar el flujo de trabajo de la rama principal. Esto porque queremos trabajar una parte muy específica de la aplicación o simplemente experimentar.\n",
    "\n",
    "La cabecera o HEAD representan la rama y el commit de esa rama donde estamos trabajando. Por defecto, esta cabecera aparecerá en el último commit de nuestra rama principal. Pero podemos cambiarlo al crear una rama:\n",
    "\n",
    "    git branch rama\n",
    "    git checkout -b rama\n",
    "\n",
    "Para estas practicas, vuelvo y cargo los archivos de la clase tal y como los muestra el instructor, en la carpeta *proyecto platzi*, y realizo el commit\n",
    "\n",
    "Recuerda puedes usar el siguiente comando:\n",
    "\n",
    "    git commit -a\n",
    "\n",
    "Y automaticamente realizara el git add .\n",
    "\n",
    "### Crear una nueva rama llamada *cabecera* \n",
    "\n",
    "Desde la rama master ejecutar el siguiente comando\n",
    "\n",
    "    git branch cabecera\n",
    "\n",
    "Con el comando *git show* me muestra hay dos ramas, pero que el HEAD sigue en el master\n",
    "\n",
    "(HEAD -> master, cabecera)\n",
    "\n",
    "    git show\n",
    "\n",
    "### Moverse a la nueva rama con *checkout*\n",
    "\n",
    "    git checkout cabecera\n",
    "\n",
    "Ejecuta los siguientes comandos, y analiza los resultados\n",
    "\n",
    "    git status\n",
    "    git show\n",
    "\n",
<<<<<<< HEAD
    "Al ejecutas *git show* me muestra (HEAD -> cabecera, master)"
=======
    "Al ejecutas *git show* me muestra (HEAD -> cabecera, master)\n"
>>>>>>> cabecera
   ]
  }
 ],
 "metadata": {
  "kernelspec": {
   "display_name": "Python 3.8.10 ('env': venv)",
   "language": "python",
   "name": "python3"
  },
  "language_info": {
   "name": "python",
   "version": "3.8.10"
  },
  "orig_nbformat": 4,
  "vscode": {
   "interpreter": {
    "hash": "f84908297e9f970860e2560c5d52874949fe97a4fe6e968618c1a29ab740e953"
   }
  }
 },
 "nbformat": 4,
 "nbformat_minor": 2
}
