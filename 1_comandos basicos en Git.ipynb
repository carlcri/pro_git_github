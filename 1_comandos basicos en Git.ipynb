{
 "cells": [
  {
   "cell_type": "markdown",
   "metadata": {},
   "source": [
    "## Practicas Git y Github\n",
    "\n",
    "Para esta practicas ya se debe tener configurado un repositorio local en GIT y uno remoto en GITHUB. Para este caso ya existe el siguiente repositorio:\n",
    "\n",
    "https://github.com/carlcri/pro_git_github\n",
    "\n"
   ]
  },
  {
   "cell_type": "markdown",
   "metadata": {},
   "source": [
    "## Volver en el tiempo en nuestro repositorio utilizando reset y checkout -- Capitulo 12\n",
    "\n",
    "### Volviendo al primer commit con *git reset hard*\n",
    " \n",
    "    git log: observar todos los commits, y copiar el primero\n",
    "    git reset 18b45b68b --hard\n",
    "\n",
    "Por experiencia propia, es el mas peligroso, es el mas comun, pero al ejecutarlo, todo lo que habia hecho anteriormente se borro, y la unica forma de recuperarlo fue mediante un pull al repositorio remoto. \n",
    "\n",
    "### Observar si *git reset hard* afecta o no los cambios que estan en staging\n",
    "\n",
    "Añadimos un nuevo animal en data, pero no guardamos los cambios, solo los dejamos en stagging con el comando\n",
    "\n",
    "    git add .\n",
    "\n",
    "    git log: copiamos el penultimo commit\n",
    "    git reset 18b45b68b --hard \n",
    "    \n",
    " Observamos si hay o no cambios en el stagging con\n",
    "\n",
    "    git status: observamos no hay cambios *nothing to commit*\n",
    "\n",
    " Concluimos que *git reset hard* vuelve todo en el tiempo, e ignora si tenemos cambios en el stagging   \n",
    "\n",
    "### Observar si *git reset soft* afecta o no los cambios que estan en staging\n",
    "\n",
    "De nuevo añadimos un animal a data, y aplicamos el comando \n",
    "    git add.\n",
    "\n",
    "    git log: copiamos el penultimo commit\n",
    "    git reset 18b45b68b --soft\n",
    "\n",
    "    git status: observamos hay cambios 'Changes to be commited'\n",
    "\n",
    "Conlcuimos que *git reset soft* vuelve en el tiempo, pero a diferencia del *hard* no ignora los cambios en el stagging. \n",
    "\n",
    "Interesante"
   ]
  },
  {
   "cell_type": "markdown",
   "metadata": {},
   "source": [
    "### Usar *git diff* para obserar las diferencias entre el directorio actual y el staging\n",
    "\n",
    "cambiamos el nonmbre de un animal en data.py, guardamos el archivo  y agregamos los cambios al stagging con\n",
    "\n",
    "    git add .\n",
    "\n",
    "agregamos un nuevo animal pero *no hacemos nada* solo guardamo el archivo, ejecutamos el siguiente\n",
    "\n",
    "    git diff\n",
    "\n",
    "Observa muestra los cambios que hay entre el stagging(RAM MEMORY) y el disco duro.\n",
    "\n",
    "Ahora añade los ultimos cambios al stagging:\n",
    "\n",
    "    git add .\n",
    "\n",
    "Vuelve a ejecutar\n",
    "\n",
    "    git diff\n",
    "\n",
    "Ya no mostrara nada. 😆"
   ]
  },
  {
   "cell_type": "markdown",
   "metadata": {},
   "source": [
    "### Identificar el uso de *git log --stat*\n",
    "\n",
    "Muestra los cambios especificos, y en cuales archivos a partir del commit, facil y sencillo pero util\n",
    "\n",
    "    git log --stat\n",
    "\n",
    "### Observar como era todo en una version anterior con *git checkout*\n",
    "\n",
    "Para este ejemplo, iremos al commit donde se añadio al animal llamado Antonia. **Volveremos in**\n",
    "\n",
    "    git checkout 4bad44e16461de data.py\n",
    "\n",
    "Observamos que uan version anterior del archivo\n",
    "\n",
    "Si en este momento hago un commit, me actualizara el archivo a la version anterior, pero eso no es lo que queremos, asi que:\n",
    "\n",
    "    git checkout master data.py\n",
    "\n",
    "Y observaremos que vuelve a la ultima version del commit.\n",
    "\n",
    "### Usar *git checkout* para restaurar un archivo a una version anterior\n",
    "\n",
    "    git checkout 4bad44e16461de data.py\n",
    "    git commit\n",
    "\n",
    "Tener cuidado con estos comando, pero definitivamente git checkout es supramemente util"
   ]
  }
 ],
 "metadata": {
  "kernelspec": {
   "display_name": "Python 3.8.10 ('env': venv)",
   "language": "python",
   "name": "python3"
  },
  "language_info": {
   "name": "python",
   "version": "3.8.10"
  },
  "orig_nbformat": 4,
  "vscode": {
   "interpreter": {
    "hash": "f84908297e9f970860e2560c5d52874949fe97a4fe6e968618c1a29ab740e953"
   }
  }
 },
 "nbformat": 4,
 "nbformat_minor": 2
}
